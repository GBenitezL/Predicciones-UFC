{
  "cells": [
    {
      "cell_type": "code",
      "execution_count": 1,
      "metadata": {
        "id": "q1dijqHEeuV4"
      },
      "outputs": [],
      "source": [
        "import pandas as pd\n",
        "import numpy as np\n",
        "import matplotlib.pyplot as plt"
      ]
    },
    {
      "cell_type": "code",
      "execution_count": 2,
      "metadata": {
        "id": "M62O4KMyezsd"
      },
      "outputs": [],
      "source": [
        "df = pd.read_csv(\"data.csv\")"
      ]
    },
    {
      "cell_type": "code",
      "execution_count": 3,
      "metadata": {
        "colab": {
          "base_uri": "https://localhost:8080/",
          "height": 444
        },
        "id": "IUZBu8cMfAsH",
        "outputId": "ab589959-b5af-4387-c836-73a7a35aeabb"
      },
      "outputs": [
        {
          "data": {
            "text/html": [
              "<div>\n",
              "<style scoped>\n",
              "    .dataframe tbody tr th:only-of-type {\n",
              "        vertical-align: middle;\n",
              "    }\n",
              "\n",
              "    .dataframe tbody tr th {\n",
              "        vertical-align: top;\n",
              "    }\n",
              "\n",
              "    .dataframe thead th {\n",
              "        text-align: right;\n",
              "    }\n",
              "</style>\n",
              "<table border=\"1\" class=\"dataframe\">\n",
              "  <thead>\n",
              "    <tr style=\"text-align: right;\">\n",
              "      <th></th>\n",
              "      <th>R_fighter</th>\n",
              "      <th>B_fighter</th>\n",
              "      <th>Referee</th>\n",
              "      <th>date</th>\n",
              "      <th>location</th>\n",
              "      <th>Winner</th>\n",
              "      <th>title_bout</th>\n",
              "      <th>weight_class</th>\n",
              "      <th>no_of_rounds</th>\n",
              "      <th>B_current_lose_streak</th>\n",
              "      <th>...</th>\n",
              "      <th>R_win_by_KO/TKO</th>\n",
              "      <th>R_win_by_Submission</th>\n",
              "      <th>R_win_by_TKO_Doctor_Stoppage</th>\n",
              "      <th>R_wins</th>\n",
              "      <th>R_Stance</th>\n",
              "      <th>R_Height_cms</th>\n",
              "      <th>R_Reach_cms</th>\n",
              "      <th>R_Weight_lbs</th>\n",
              "      <th>B_age</th>\n",
              "      <th>R_age</th>\n",
              "    </tr>\n",
              "  </thead>\n",
              "  <tbody>\n",
              "    <tr>\n",
              "      <th>0</th>\n",
              "      <td>Henry Cejudo</td>\n",
              "      <td>Marlon Moraes</td>\n",
              "      <td>Marc Goddard</td>\n",
              "      <td>2019-06-08</td>\n",
              "      <td>Chicago, Illinois, USA</td>\n",
              "      <td>Red</td>\n",
              "      <td>True</td>\n",
              "      <td>Bantamweight</td>\n",
              "      <td>5</td>\n",
              "      <td>0.0</td>\n",
              "      <td>...</td>\n",
              "      <td>2.0</td>\n",
              "      <td>0.0</td>\n",
              "      <td>0.0</td>\n",
              "      <td>8.0</td>\n",
              "      <td>Orthodox</td>\n",
              "      <td>162.56</td>\n",
              "      <td>162.56</td>\n",
              "      <td>135.0</td>\n",
              "      <td>31.0</td>\n",
              "      <td>32.0</td>\n",
              "    </tr>\n",
              "    <tr>\n",
              "      <th>1</th>\n",
              "      <td>Valentina Shevchenko</td>\n",
              "      <td>Jessica Eye</td>\n",
              "      <td>Robert Madrigal</td>\n",
              "      <td>2019-06-08</td>\n",
              "      <td>Chicago, Illinois, USA</td>\n",
              "      <td>Red</td>\n",
              "      <td>True</td>\n",
              "      <td>Women's Flyweight</td>\n",
              "      <td>5</td>\n",
              "      <td>0.0</td>\n",
              "      <td>...</td>\n",
              "      <td>0.0</td>\n",
              "      <td>2.0</td>\n",
              "      <td>0.0</td>\n",
              "      <td>5.0</td>\n",
              "      <td>Southpaw</td>\n",
              "      <td>165.10</td>\n",
              "      <td>167.64</td>\n",
              "      <td>125.0</td>\n",
              "      <td>32.0</td>\n",
              "      <td>31.0</td>\n",
              "    </tr>\n",
              "    <tr>\n",
              "      <th>2</th>\n",
              "      <td>Tony Ferguson</td>\n",
              "      <td>Donald Cerrone</td>\n",
              "      <td>Dan Miragliotta</td>\n",
              "      <td>2019-06-08</td>\n",
              "      <td>Chicago, Illinois, USA</td>\n",
              "      <td>Red</td>\n",
              "      <td>False</td>\n",
              "      <td>Lightweight</td>\n",
              "      <td>3</td>\n",
              "      <td>0.0</td>\n",
              "      <td>...</td>\n",
              "      <td>3.0</td>\n",
              "      <td>6.0</td>\n",
              "      <td>1.0</td>\n",
              "      <td>14.0</td>\n",
              "      <td>Orthodox</td>\n",
              "      <td>180.34</td>\n",
              "      <td>193.04</td>\n",
              "      <td>155.0</td>\n",
              "      <td>36.0</td>\n",
              "      <td>35.0</td>\n",
              "    </tr>\n",
              "    <tr>\n",
              "      <th>3</th>\n",
              "      <td>Jimmie Rivera</td>\n",
              "      <td>Petr Yan</td>\n",
              "      <td>Kevin MacDonald</td>\n",
              "      <td>2019-06-08</td>\n",
              "      <td>Chicago, Illinois, USA</td>\n",
              "      <td>Blue</td>\n",
              "      <td>False</td>\n",
              "      <td>Bantamweight</td>\n",
              "      <td>3</td>\n",
              "      <td>0.0</td>\n",
              "      <td>...</td>\n",
              "      <td>1.0</td>\n",
              "      <td>0.0</td>\n",
              "      <td>0.0</td>\n",
              "      <td>6.0</td>\n",
              "      <td>Orthodox</td>\n",
              "      <td>162.56</td>\n",
              "      <td>172.72</td>\n",
              "      <td>135.0</td>\n",
              "      <td>26.0</td>\n",
              "      <td>29.0</td>\n",
              "    </tr>\n",
              "    <tr>\n",
              "      <th>4</th>\n",
              "      <td>Tai Tuivasa</td>\n",
              "      <td>Blagoy Ivanov</td>\n",
              "      <td>Dan Miragliotta</td>\n",
              "      <td>2019-06-08</td>\n",
              "      <td>Chicago, Illinois, USA</td>\n",
              "      <td>Blue</td>\n",
              "      <td>False</td>\n",
              "      <td>Heavyweight</td>\n",
              "      <td>3</td>\n",
              "      <td>0.0</td>\n",
              "      <td>...</td>\n",
              "      <td>2.0</td>\n",
              "      <td>0.0</td>\n",
              "      <td>0.0</td>\n",
              "      <td>3.0</td>\n",
              "      <td>Southpaw</td>\n",
              "      <td>187.96</td>\n",
              "      <td>190.50</td>\n",
              "      <td>264.0</td>\n",
              "      <td>32.0</td>\n",
              "      <td>26.0</td>\n",
              "    </tr>\n",
              "  </tbody>\n",
              "</table>\n",
              "<p>5 rows × 145 columns</p>\n",
              "</div>"
            ],
            "text/plain": [
              "              R_fighter       B_fighter          Referee        date  \\\n",
              "0          Henry Cejudo   Marlon Moraes     Marc Goddard  2019-06-08   \n",
              "1  Valentina Shevchenko     Jessica Eye  Robert Madrigal  2019-06-08   \n",
              "2         Tony Ferguson  Donald Cerrone  Dan Miragliotta  2019-06-08   \n",
              "3         Jimmie Rivera        Petr Yan  Kevin MacDonald  2019-06-08   \n",
              "4           Tai Tuivasa   Blagoy Ivanov  Dan Miragliotta  2019-06-08   \n",
              "\n",
              "                 location Winner  title_bout       weight_class  no_of_rounds  \\\n",
              "0  Chicago, Illinois, USA    Red        True       Bantamweight             5   \n",
              "1  Chicago, Illinois, USA    Red        True  Women's Flyweight             5   \n",
              "2  Chicago, Illinois, USA    Red       False        Lightweight             3   \n",
              "3  Chicago, Illinois, USA   Blue       False       Bantamweight             3   \n",
              "4  Chicago, Illinois, USA   Blue       False        Heavyweight             3   \n",
              "\n",
              "   B_current_lose_streak  ...  R_win_by_KO/TKO  R_win_by_Submission  \\\n",
              "0                    0.0  ...              2.0                  0.0   \n",
              "1                    0.0  ...              0.0                  2.0   \n",
              "2                    0.0  ...              3.0                  6.0   \n",
              "3                    0.0  ...              1.0                  0.0   \n",
              "4                    0.0  ...              2.0                  0.0   \n",
              "\n",
              "   R_win_by_TKO_Doctor_Stoppage  R_wins  R_Stance  R_Height_cms  R_Reach_cms  \\\n",
              "0                           0.0     8.0  Orthodox        162.56       162.56   \n",
              "1                           0.0     5.0  Southpaw        165.10       167.64   \n",
              "2                           1.0    14.0  Orthodox        180.34       193.04   \n",
              "3                           0.0     6.0  Orthodox        162.56       172.72   \n",
              "4                           0.0     3.0  Southpaw        187.96       190.50   \n",
              "\n",
              "   R_Weight_lbs  B_age  R_age  \n",
              "0         135.0   31.0   32.0  \n",
              "1         125.0   32.0   31.0  \n",
              "2         155.0   36.0   35.0  \n",
              "3         135.0   26.0   29.0  \n",
              "4         264.0   32.0   26.0  \n",
              "\n",
              "[5 rows x 145 columns]"
            ]
          },
          "execution_count": 3,
          "metadata": {},
          "output_type": "execute_result"
        }
      ],
      "source": [
        "df.head()"
      ]
    },
    {
      "cell_type": "code",
      "execution_count": 4,
      "metadata": {
        "id": "lZMmfzb595Q-"
      },
      "outputs": [],
      "source": [
        "df['gender'] = np.where(df['weight_class'].str.contains('Women'), \"Women's\", \"Men's\")"
      ]
    },
    {
      "cell_type": "code",
      "execution_count": 5,
      "metadata": {
        "id": "ZuVjBtPbFbjd"
      },
      "outputs": [],
      "source": [
        "df['year'] = df['date'].str[0:4]"
      ]
    },
    {
      "cell_type": "code",
      "execution_count": 6,
      "metadata": {
        "id": "-d7hYZMeGeap"
      },
      "outputs": [],
      "source": [
        "df_date_range = df[df['date'] > '2010']"
      ]
    },
    {
      "cell_type": "code",
      "execution_count": 7,
      "metadata": {
        "id": "_id9Lvaa_EEQ"
      },
      "outputs": [],
      "source": [
        "df_subset = df_date_range[[\"R_fighter\",\"B_fighter\", \"gender\", \"weight_class\", \"year\", \"R_age\", \"B_age\", \"R_Stance\", \"B_Stance\", \"R_Weight_lbs\", \"B_Weight_lbs\", \"R_Reach_cms\", \"B_Reach_cms\", \"R_wins\", \"B_wins\", \"R_losses\", \"B_losses\", \"R_draw\", \"B_draw\", \"R_current_win_streak\", \"B_current_win_streak\", \n",
        "                           \"R_current_lose_streak\", \"B_current_lose_streak\",\"R_longest_win_streak\", \"B_longest_win_streak\", \"Winner\"]]"
      ]
    },
    {
      "cell_type": "code",
      "execution_count": 8,
      "metadata": {
        "colab": {
          "base_uri": "https://localhost:8080/",
          "height": 357
        },
        "id": "CVjiZSswFMqq",
        "outputId": "da23e74f-cbfb-47fe-c38a-f4ea9eb69bc9"
      },
      "outputs": [
        {
          "data": {
            "text/html": [
              "<div>\n",
              "<style scoped>\n",
              "    .dataframe tbody tr th:only-of-type {\n",
              "        vertical-align: middle;\n",
              "    }\n",
              "\n",
              "    .dataframe tbody tr th {\n",
              "        vertical-align: top;\n",
              "    }\n",
              "\n",
              "    .dataframe thead th {\n",
              "        text-align: right;\n",
              "    }\n",
              "</style>\n",
              "<table border=\"1\" class=\"dataframe\">\n",
              "  <thead>\n",
              "    <tr style=\"text-align: right;\">\n",
              "      <th></th>\n",
              "      <th>R_fighter</th>\n",
              "      <th>B_fighter</th>\n",
              "      <th>gender</th>\n",
              "      <th>weight_class</th>\n",
              "      <th>year</th>\n",
              "      <th>R_age</th>\n",
              "      <th>B_age</th>\n",
              "      <th>R_Stance</th>\n",
              "      <th>B_Stance</th>\n",
              "      <th>R_Weight_lbs</th>\n",
              "      <th>...</th>\n",
              "      <th>B_losses</th>\n",
              "      <th>R_draw</th>\n",
              "      <th>B_draw</th>\n",
              "      <th>R_current_win_streak</th>\n",
              "      <th>B_current_win_streak</th>\n",
              "      <th>R_current_lose_streak</th>\n",
              "      <th>B_current_lose_streak</th>\n",
              "      <th>R_longest_win_streak</th>\n",
              "      <th>B_longest_win_streak</th>\n",
              "      <th>Winner</th>\n",
              "    </tr>\n",
              "  </thead>\n",
              "  <tbody>\n",
              "    <tr>\n",
              "      <th>3892</th>\n",
              "      <td>Martin Kampmann</td>\n",
              "      <td>Jacob Volkmann</td>\n",
              "      <td>Men's</td>\n",
              "      <td>Welterweight</td>\n",
              "      <td>2010</td>\n",
              "      <td>27.0</td>\n",
              "      <td>29.0</td>\n",
              "      <td>Orthodox</td>\n",
              "      <td>Southpaw</td>\n",
              "      <td>170.0</td>\n",
              "      <td>...</td>\n",
              "      <td>1.0</td>\n",
              "      <td>0.0</td>\n",
              "      <td>0.0</td>\n",
              "      <td>0.0</td>\n",
              "      <td>0.0</td>\n",
              "      <td>1.0</td>\n",
              "      <td>1.0</td>\n",
              "      <td>4.0</td>\n",
              "      <td>0.0</td>\n",
              "      <td>Red</td>\n",
              "    </tr>\n",
              "    <tr>\n",
              "      <th>3893</th>\n",
              "      <td>Cole Miller</td>\n",
              "      <td>Dan Lauzon</td>\n",
              "      <td>Men's</td>\n",
              "      <td>Lightweight</td>\n",
              "      <td>2010</td>\n",
              "      <td>25.0</td>\n",
              "      <td>21.0</td>\n",
              "      <td>Orthodox</td>\n",
              "      <td>Orthodox</td>\n",
              "      <td>145.0</td>\n",
              "      <td>...</td>\n",
              "      <td>1.0</td>\n",
              "      <td>0.0</td>\n",
              "      <td>0.0</td>\n",
              "      <td>0.0</td>\n",
              "      <td>0.0</td>\n",
              "      <td>1.0</td>\n",
              "      <td>1.0</td>\n",
              "      <td>2.0</td>\n",
              "      <td>0.0</td>\n",
              "      <td>Red</td>\n",
              "    </tr>\n",
              "    <tr>\n",
              "      <th>3894</th>\n",
              "      <td>Mark Munoz</td>\n",
              "      <td>Ryan Jensen</td>\n",
              "      <td>Men's</td>\n",
              "      <td>Middleweight</td>\n",
              "      <td>2010</td>\n",
              "      <td>31.0</td>\n",
              "      <td>32.0</td>\n",
              "      <td>Orthodox</td>\n",
              "      <td>Orthodox</td>\n",
              "      <td>185.0</td>\n",
              "      <td>...</td>\n",
              "      <td>3.0</td>\n",
              "      <td>0.0</td>\n",
              "      <td>0.0</td>\n",
              "      <td>1.0</td>\n",
              "      <td>1.0</td>\n",
              "      <td>0.0</td>\n",
              "      <td>0.0</td>\n",
              "      <td>1.0</td>\n",
              "      <td>1.0</td>\n",
              "      <td>Red</td>\n",
              "    </tr>\n",
              "    <tr>\n",
              "      <th>3895</th>\n",
              "      <td>Jake Ellenberger</td>\n",
              "      <td>Mike Pyle</td>\n",
              "      <td>Men's</td>\n",
              "      <td>Welterweight</td>\n",
              "      <td>2010</td>\n",
              "      <td>24.0</td>\n",
              "      <td>34.0</td>\n",
              "      <td>Orthodox</td>\n",
              "      <td>Orthodox</td>\n",
              "      <td>170.0</td>\n",
              "      <td>...</td>\n",
              "      <td>1.0</td>\n",
              "      <td>0.0</td>\n",
              "      <td>0.0</td>\n",
              "      <td>0.0</td>\n",
              "      <td>1.0</td>\n",
              "      <td>1.0</td>\n",
              "      <td>0.0</td>\n",
              "      <td>0.0</td>\n",
              "      <td>1.0</td>\n",
              "      <td>Red</td>\n",
              "    </tr>\n",
              "    <tr>\n",
              "      <th>3896</th>\n",
              "      <td>Rafaello Oliveira</td>\n",
              "      <td>John Gunderson</td>\n",
              "      <td>Men's</td>\n",
              "      <td>Lightweight</td>\n",
              "      <td>2010</td>\n",
              "      <td>27.0</td>\n",
              "      <td>30.0</td>\n",
              "      <td>Orthodox</td>\n",
              "      <td>Orthodox</td>\n",
              "      <td>155.0</td>\n",
              "      <td>...</td>\n",
              "      <td>0.0</td>\n",
              "      <td>0.0</td>\n",
              "      <td>0.0</td>\n",
              "      <td>0.0</td>\n",
              "      <td>0.0</td>\n",
              "      <td>1.0</td>\n",
              "      <td>0.0</td>\n",
              "      <td>0.0</td>\n",
              "      <td>0.0</td>\n",
              "      <td>Red</td>\n",
              "    </tr>\n",
              "  </tbody>\n",
              "</table>\n",
              "<p>5 rows × 26 columns</p>\n",
              "</div>"
            ],
            "text/plain": [
              "              R_fighter       B_fighter gender  weight_class  year  R_age  \\\n",
              "3892    Martin Kampmann  Jacob Volkmann  Men's  Welterweight  2010   27.0   \n",
              "3893        Cole Miller      Dan Lauzon  Men's   Lightweight  2010   25.0   \n",
              "3894         Mark Munoz     Ryan Jensen  Men's  Middleweight  2010   31.0   \n",
              "3895   Jake Ellenberger       Mike Pyle  Men's  Welterweight  2010   24.0   \n",
              "3896  Rafaello Oliveira  John Gunderson  Men's   Lightweight  2010   27.0   \n",
              "\n",
              "      B_age  R_Stance  B_Stance  R_Weight_lbs  ...  B_losses  R_draw  B_draw  \\\n",
              "3892   29.0  Orthodox  Southpaw         170.0  ...       1.0     0.0     0.0   \n",
              "3893   21.0  Orthodox  Orthodox         145.0  ...       1.0     0.0     0.0   \n",
              "3894   32.0  Orthodox  Orthodox         185.0  ...       3.0     0.0     0.0   \n",
              "3895   34.0  Orthodox  Orthodox         170.0  ...       1.0     0.0     0.0   \n",
              "3896   30.0  Orthodox  Orthodox         155.0  ...       0.0     0.0     0.0   \n",
              "\n",
              "      R_current_win_streak  B_current_win_streak  R_current_lose_streak  \\\n",
              "3892                   0.0                   0.0                    1.0   \n",
              "3893                   0.0                   0.0                    1.0   \n",
              "3894                   1.0                   1.0                    0.0   \n",
              "3895                   0.0                   1.0                    1.0   \n",
              "3896                   0.0                   0.0                    1.0   \n",
              "\n",
              "      B_current_lose_streak  R_longest_win_streak  B_longest_win_streak  \\\n",
              "3892                    1.0                   4.0                   0.0   \n",
              "3893                    1.0                   2.0                   0.0   \n",
              "3894                    0.0                   1.0                   1.0   \n",
              "3895                    0.0                   0.0                   1.0   \n",
              "3896                    0.0                   0.0                   0.0   \n",
              "\n",
              "      Winner  \n",
              "3892     Red  \n",
              "3893     Red  \n",
              "3894     Red  \n",
              "3895     Red  \n",
              "3896     Red  \n",
              "\n",
              "[5 rows x 26 columns]"
            ]
          },
          "execution_count": 8,
          "metadata": {},
          "output_type": "execute_result"
        }
      ],
      "source": [
        "df_subset.tail()"
      ]
    },
    {
      "cell_type": "code",
      "execution_count": null,
      "metadata": {
        "colab": {
          "base_uri": "https://localhost:8080/"
        },
        "id": "w8bERe18lnM8",
        "outputId": "cd153950-4b27-4d01-db9c-acf048bc5412"
      },
      "outputs": [],
      "source": [
        "pd.set_option('display.max_rows', None)\n",
        "pd.set_option('display.max_columns', None)\n",
        "df_subset.isna().sum()"
      ]
    },
    {
      "cell_type": "code",
      "execution_count": null,
      "metadata": {
        "id": "oQ3lL6GK-Rvl"
      },
      "outputs": [],
      "source": [
        "UFC = df_subset.dropna()"
      ]
    },
    {
      "cell_type": "code",
      "execution_count": null,
      "metadata": {
        "colab": {
          "base_uri": "https://localhost:8080/",
          "height": 239
        },
        "id": "d-4T1HnxDm2V",
        "outputId": "9a2b0879-7367-467b-b2d5-1302c4348719"
      },
      "outputs": [],
      "source": [
        "UFC.groupby(\"gender\").describe()"
      ]
    },
    {
      "cell_type": "code",
      "execution_count": null,
      "metadata": {
        "colab": {
          "base_uri": "https://localhost:8080/",
          "height": 639
        },
        "id": "MDXUUkZnEGLV",
        "outputId": "40c8e098-3e94-4383-9e25-9aef42056a2f"
      },
      "outputs": [],
      "source": [
        "UFC.groupby([\"gender\", \"weight_class\"]).mean()"
      ]
    },
    {
      "cell_type": "code",
      "execution_count": null,
      "metadata": {
        "colab": {
          "base_uri": "https://localhost:8080/",
          "height": 458
        },
        "id": "WWUjU3xSJvID",
        "outputId": "040b8885-0057-4d92-d784-2e2a1cee2bb5"
      },
      "outputs": [],
      "source": [
        "UFC.groupby(\"year\").mean()"
      ]
    },
    {
      "cell_type": "code",
      "execution_count": null,
      "metadata": {
        "colab": {
          "base_uri": "https://localhost:8080/",
          "height": 110
        },
        "id": "X2_E_UNlqY9Z",
        "outputId": "07804621-171d-452d-c2c6-d8e6bce92c44"
      },
      "outputs": [],
      "source": [
        "UFC.to_csv('/')"
      ]
    }
  ],
  "metadata": {
    "colab": {
      "provenance": []
    },
    "kernelspec": {
      "display_name": "Python 3.10.7 64-bit (microsoft store)",
      "language": "python",
      "name": "python3"
    },
    "language_info": {
      "codemirror_mode": {
        "name": "ipython",
        "version": 3
      },
      "file_extension": ".py",
      "mimetype": "text/x-python",
      "name": "python",
      "nbconvert_exporter": "python",
      "pygments_lexer": "ipython3",
      "version": "3.10.7"
    },
    "vscode": {
      "interpreter": {
        "hash": "4dd22f6e7ef6cc9f6e18430408862b8ab4e0912ae097ae4754b9bc2d9cf28af3"
      }
    }
  },
  "nbformat": 4,
  "nbformat_minor": 0
}
